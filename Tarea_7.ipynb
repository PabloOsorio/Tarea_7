{
  "nbformat": 4,
  "nbformat_minor": 0,
  "metadata": {
    "colab": {
      "name": "Tarea_7.ipynb",
      "provenance": [],
      "authorship_tag": "ABX9TyN7qD5EfAaTW7FB0cROXX0Y",
      "include_colab_link": true
    },
    "kernelspec": {
      "name": "python3",
      "display_name": "Python 3"
    },
    "language_info": {
      "name": "python"
    }
  },
  "cells": [
    {
      "cell_type": "markdown",
      "metadata": {
        "id": "view-in-github",
        "colab_type": "text"
      },
      "source": [
        "<a href=\"https://colab.research.google.com/github/PabloOsorio/Tarea_7/blob/main/Tarea_7.ipynb\" target=\"_parent\"><img src=\"https://colab.research.google.com/assets/colab-badge.svg\" alt=\"Open In Colab\"/></a>"
      ]
    },
    {
      "cell_type": "code",
      "metadata": {
        "id": "0o3vOAzKPzI5"
      },
      "source": [
        "class Nodo:\n",
        "  def __init__(self,value,siguiente = None):\n",
        "    self.data= value\n",
        "    self.next= siguiente\n",
        "\n",
        "class LinkedList:\n",
        "  def __init__(self):\n",
        "    self.head = None\n",
        "\n",
        "  def is_empty (self):\n",
        "    return self.head == None\n",
        "\n",
        "  def get_tail(self):\n",
        "     if self.is_empty():\n",
        "         return None\n",
        "     else:\n",
        "         curr_node = self.head\n",
        "         while curr_node.next != None:\n",
        "             curr_node = curr_node.next\n",
        "         u = curr_node.data\n",
        "         print(u)\n",
        "  def append( self, value):\n",
        "    if self.head == None:\n",
        "        self.head = Nodo(value)\n",
        "    else:\n",
        "      curr_node = self.head\n",
        "      while curr_node.next != None:\n",
        "        curr_node = curr_node.next\n",
        "      curr_node.next = Nodo(value)\n",
        "\n",
        "  def get_size(self):\n",
        "      return self.size\n",
        "    \n",
        "  def pop (self):\n",
        "      if self.head == None:\n",
        "        sout(\"No se puede sacar ningun elemento\")\n",
        "      else:\n",
        "\n",
        "          curr_node = self.head\n",
        "          while curr_node.next.next != None:\n",
        "                curr_node = curr_node.next\n",
        "          print(curr_node.next.data)\n",
        "          curr_node.next = None\n",
        "\n",
        "  def pop_first(self):\n",
        "      if self.head == None:\n",
        "        sout(\"No se puede sacar ningun elemento\")\n",
        "      else:\n",
        "            print(self.head.data)\n",
        "            self.head = self.head.next\n",
        "\n",
        "\n",
        "  def transversal (self):\n",
        "    curr_node = self.head\n",
        "    while curr_node != None:\n",
        "      print(f\"| {curr_node.data} | -->\", end=\"\")\n",
        "      curr_node = curr_node.next\n",
        "    print (\"\")\n",
        "  "
      ],
      "execution_count": 19,
      "outputs": []
    },
    {
      "cell_type": "code",
      "metadata": {
        "colab": {
          "base_uri": "https://localhost:8080/"
        },
        "id": "bew4kPRMQBrY",
        "outputId": "3105fbc8-64b1-4aae-f638-9d63a5f88dde"
      },
      "source": [
        "lista = LinkedList()\n",
        "lista.append(15)\n",
        "lista.append(20)\n",
        "lista.append(25)\n",
        "lista.append(30)\n",
        "lista.append(35)\n",
        "lista.transversal()\n",
        "print(\".-.-.-.-.-.-.-.-\")\n",
        "lista.get_tail()\n",
        "print(\".-.-.-.-.-.-.-.-\")\n",
        "lista.pop()\n",
        "lista.transversal()\n",
        "lista.pop_first()\n",
        "lista.transversal()\n"
      ],
      "execution_count": 20,
      "outputs": [
        {
          "output_type": "stream",
          "name": "stdout",
          "text": [
            "| 15 | -->| 20 | -->| 25 | -->| 30 | -->| 35 | -->\n",
            ".-.-.-.-.-.-.-.-\n",
            "35\n",
            ".-.-.-.-.-.-.-.-\n",
            "35\n",
            "| 15 | -->| 20 | -->| 25 | -->| 30 | -->\n",
            "15\n",
            "| 20 | -->| 25 | -->| 30 | -->\n"
          ]
        }
      ]
    }
  ]
}